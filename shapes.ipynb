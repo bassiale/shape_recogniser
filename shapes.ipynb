{
  "nbformat": 4,
  "nbformat_minor": 0,
  "metadata": {
    "colab": {
      "name": "shapes",
      "provenance": [],
      "collapsed_sections": [],
      "include_colab_link": true
    },
    "kernelspec": {
      "name": "python3",
      "display_name": "Python 3"
    },
    "language_info": {
      "name": "python"
    }
  },
  "cells": [
    {
      "cell_type": "markdown",
      "metadata": {
        "id": "view-in-github",
        "colab_type": "text"
      },
      "source": [
        "<a href=\"https://colab.research.google.com/github/bassiale/shape_recogniser/blob/main/shapes.ipynb\" target=\"_parent\"><img src=\"https://colab.research.google.com/assets/colab-badge.svg\" alt=\"Open In Colab\"/></a>"
      ]
    },
    {
      "cell_type": "code",
      "metadata": {
        "colab": {
          "base_uri": "https://localhost:8080/"
        },
        "id": "hKLonvFe-2Tt",
        "outputId": "fa454040-d4ab-4465-f5ef-4dd7c9089513"
      },
      "source": [
        "from google.colab import drive\n",
        "drive.mount('/content/mydrive')"
      ],
      "execution_count": null,
      "outputs": [
        {
          "output_type": "stream",
          "text": [
            "Drive already mounted at /content/mydrive; to attempt to forcibly remount, call drive.mount(\"/content/mydrive\", force_remount=True).\n"
          ],
          "name": "stdout"
        }
      ]
    },
    {
      "cell_type": "code",
      "metadata": {
        "id": "2P6WWVeL_YS_"
      },
      "source": [
        "%tensorflow_version 2.x"
      ],
      "execution_count": null,
      "outputs": []
    },
    {
      "cell_type": "code",
      "metadata": {
        "colab": {
          "base_uri": "https://localhost:8080/"
        },
        "id": "59olGs9r_dpN",
        "outputId": "b6e6e641-0578-4e82-d94a-69597cd2e8f2"
      },
      "source": [
        "import tensorflow as tf\n",
        "from tensorflow.keras.preprocessing.image import ImageDataGenerator\n",
        "\n",
        "TRAINING_DIR = \"/content/mydrive/MyDrive/Colab Notebooks/AI/datasets/data\"\n",
        "\n",
        "train_datagen = ImageDataGenerator(\n",
        "    rescale = 1./255,\n",
        ")\n",
        "'''train_generator = train_datagen.flow_from_directory(TRAINING_DIR,\n",
        "                                                    batch_size=20,\n",
        "                                                    class_mode='categorical',\n",
        "                                                    color_mode=\"rgb\",\n",
        "                                                    subset='training',\n",
        "                                                    target_size=(128,128))'''\n",
        "\n",
        "train_generator = tf.keras.preprocessing.image_dataset_from_directory(TRAINING_DIR,\n",
        "                                                    batch_size=20,\n",
        "                                                    \n",
        "                                                    color_mode=\"rgb\",\n",
        "                                                    image_size=(128,128)\n",
        "                                                    )\n",
        "\n",
        "TEST_DIR = \"/content/mydrive/MyDrive/Colab Notebooks/AI/datasets/datatest\"\n",
        "\n",
        "test_datagen = ImageDataGenerator(\n",
        "    rescale=1./255,\n",
        "    )\n",
        "''''test_generator = test_datagen.flow_from_directory(TEST_DIR,\n",
        "                                                  batch_size=10,\n",
        "                                                  class_mode='categorical',\n",
        "                                                  color_mode=\"rgb\",\n",
        "                                                  classes=['cerchi','quadrati','triangoli'],\n",
        "                                                  target_size=(128,128))'''\n",
        "test_generator = tf.keras.preprocessing.image_dataset_from_directory(TEST_DIR,\n",
        "                                                   batch_size=20,\n",
        "                                                   \n",
        "                                                   color_mode=\"rgb\",\n",
        "                                                   image_size=(128,128),\n",
        "                                                    )\n",
        "                        "
      ],
      "execution_count": null,
      "outputs": [
        {
          "output_type": "stream",
          "text": [
            "Found 300 files belonging to 3 classes.\n",
            "Found 30 files belonging to 3 classes.\n"
          ],
          "name": "stdout"
        }
      ]
    },
    {
      "cell_type": "code",
      "metadata": {
        "colab": {
          "base_uri": "https://localhost:8080/"
        },
        "id": "21t_pdCJC1q4",
        "outputId": "573062ec-e8ff-409d-d7da-d77ff950595d"
      },
      "source": [
        "import urllib.request\n",
        "import os\n",
        "import zipfile\n",
        "import random\n",
        "from tensorflow.keras.preprocessing.image import ImageDataGenerator\n",
        "from tensorflow.keras import layers\n",
        "from tensorflow.keras import Model\n",
        "from tensorflow.keras.applications.inception_v3 import InceptionV3\n",
        "from tensorflow.keras.optimizers import RMSprop\n",
        "from shutil import copyfile\n",
        "weights_url = \"https://storage.googleapis.com/mledu-datasets/inception_v3_weights_tf_dim_ordering_tf_kernels_notop.h5\"\n",
        "weights_file = \"inception_v3.h5\"\n",
        "urllib.request.urlretrieve(weights_url, weights_file)\n",
        "\n",
        "pre_trained_model = InceptionV3(input_shape=(128, 128,3),\n",
        "                                include_top=False,\n",
        "                                weights=None)\n",
        "\n",
        "pre_trained_model.load_weights(weights_file)\n",
        "\n",
        "for layer in pre_trained_model.layers:\n",
        "    layer.trainable = False\n",
        "\n",
        "\n",
        "last_layer = pre_trained_model.get_layer('mixed7')\n",
        "print('last layer output shape: ', last_layer.output_shape)\n",
        "last_output = last_layer.output\n",
        "\n"
      ],
      "execution_count": null,
      "outputs": [
        {
          "output_type": "stream",
          "text": [
            "last layer output shape:  (None, 6, 6, 768)\n"
          ],
          "name": "stdout"
        }
      ]
    },
    {
      "cell_type": "code",
      "metadata": {
        "colab": {
          "base_uri": "https://localhost:8080/"
        },
        "id": "SQmygmcwLRg_",
        "outputId": "ab85dc37-88f5-459a-8d7d-ca265f9b2d51"
      },
      "source": [
        "x = layers.Flatten()(last_output)\n",
        "\n",
        "x = layers.Dense(1024, activation='relu')(x)\n",
        "\n",
        "x = layers.Dense(3, activation='softmax')(x)\n",
        "\n",
        "model = Model(pre_trained_model.input, x)\n",
        "\n",
        "model.compile(optimizer=RMSprop(learning_rate=0.0001),\n",
        "              loss='sparse_categorical_crossentropy',\n",
        "              metrics=['acc'])\n",
        "\n",
        "history = model.fit(\n",
        "            train_generator,\n",
        "            validation_data=test_generator,\n",
        "            epochs=20\n",
        "            )"
      ],
      "execution_count": null,
      "outputs": [
        {
          "output_type": "stream",
          "text": [
            "Epoch 1/20\n",
            "15/15 [==============================] - 37s 2s/step - loss: 143.3299 - acc: 0.5433 - val_loss: 4.4328 - val_acc: 0.9333\n",
            "Epoch 2/20\n",
            "15/15 [==============================] - 14s 918ms/step - loss: 11.4871 - acc: 0.8433 - val_loss: 40.8274 - val_acc: 0.6667\n",
            "Epoch 3/20\n",
            "15/15 [==============================] - 14s 919ms/step - loss: 26.4283 - acc: 0.7367 - val_loss: 39.3173 - val_acc: 0.6667\n",
            "Epoch 4/20\n",
            "15/15 [==============================] - 14s 914ms/step - loss: 12.4922 - acc: 0.8467 - val_loss: 0.5214 - val_acc: 0.9667\n",
            "Epoch 5/20\n",
            "15/15 [==============================] - 14s 920ms/step - loss: 14.4192 - acc: 0.8933 - val_loss: 2.3604 - val_acc: 0.9333\n",
            "Epoch 6/20\n",
            "15/15 [==============================] - 14s 916ms/step - loss: 17.3113 - acc: 0.8300 - val_loss: 0.3279 - val_acc: 0.9667\n",
            "Epoch 7/20\n",
            "15/15 [==============================] - 14s 915ms/step - loss: 3.6673 - acc: 0.9200 - val_loss: 0.6460 - val_acc: 0.9667\n",
            "Epoch 8/20\n",
            "15/15 [==============================] - 14s 913ms/step - loss: 11.1282 - acc: 0.8867 - val_loss: 2.3124 - val_acc: 0.9667\n",
            "Epoch 9/20\n",
            "15/15 [==============================] - 14s 915ms/step - loss: 2.3651 - acc: 0.9600 - val_loss: 2.8420 - val_acc: 0.9667\n",
            "Epoch 10/20\n",
            "15/15 [==============================] - 14s 916ms/step - loss: 2.9123 - acc: 0.9367 - val_loss: 110.1186 - val_acc: 0.6000\n",
            "Epoch 11/20\n",
            "15/15 [==============================] - 14s 917ms/step - loss: 7.7015 - acc: 0.9333 - val_loss: 9.4296 - val_acc: 0.8000\n",
            "Epoch 12/20\n",
            "15/15 [==============================] - 14s 919ms/step - loss: 12.8550 - acc: 0.8867 - val_loss: 4.7684e-08 - val_acc: 1.0000\n",
            "Epoch 13/20\n",
            "15/15 [==============================] - 14s 908ms/step - loss: 0.2622 - acc: 0.9900 - val_loss: 22.4635 - val_acc: 0.6667\n",
            "Epoch 14/20\n",
            "15/15 [==============================] - 14s 914ms/step - loss: 3.7323 - acc: 0.9667 - val_loss: 0.0000e+00 - val_acc: 1.0000\n",
            "Epoch 15/20\n",
            "15/15 [==============================] - 14s 935ms/step - loss: 0.0000e+00 - acc: 1.0000 - val_loss: 0.0000e+00 - val_acc: 1.0000\n",
            "Epoch 16/20\n",
            "15/15 [==============================] - 14s 912ms/step - loss: 0.0000e+00 - acc: 1.0000 - val_loss: 0.0000e+00 - val_acc: 1.0000\n",
            "Epoch 17/20\n",
            "15/15 [==============================] - 14s 908ms/step - loss: 0.0000e+00 - acc: 1.0000 - val_loss: 0.0000e+00 - val_acc: 1.0000\n",
            "Epoch 18/20\n",
            "15/15 [==============================] - 14s 911ms/step - loss: 0.0000e+00 - acc: 1.0000 - val_loss: 0.0000e+00 - val_acc: 1.0000\n",
            "Epoch 19/20\n",
            "15/15 [==============================] - 14s 904ms/step - loss: 0.0000e+00 - acc: 1.0000 - val_loss: 0.0000e+00 - val_acc: 1.0000\n",
            "Epoch 20/20\n",
            "15/15 [==============================] - 14s 908ms/step - loss: 0.0000e+00 - acc: 1.0000 - val_loss: 0.0000e+00 - val_acc: 1.0000\n"
          ],
          "name": "stdout"
        }
      ]
    },
    {
      "cell_type": "code",
      "metadata": {
        "colab": {
          "base_uri": "https://localhost:8080/"
        },
        "id": "jfr4TgK1vslO",
        "outputId": "25b51d4a-10ef-4063-d919-64dabc260ae9"
      },
      "source": [
        "model.save('my_model')"
      ],
      "execution_count": null,
      "outputs": [
        {
          "output_type": "stream",
          "text": [
            "INFO:tensorflow:Assets written to: my_model/assets\n"
          ],
          "name": "stdout"
        }
      ]
    }
  ]
}
